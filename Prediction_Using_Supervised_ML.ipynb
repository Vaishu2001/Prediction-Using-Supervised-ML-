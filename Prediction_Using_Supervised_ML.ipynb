{
  "nbformat": 4,
  "nbformat_minor": 0,
  "metadata": {
    "colab": {
      "name": "Prediction Using Supervised ML",
      "provenance": [],
      "collapsed_sections": []
    },
    "kernelspec": {
      "name": "python3",
      "display_name": "Python 3"
    },
    "language_info": {
      "name": "python"
    }
  },
  "cells": [
    {
      "cell_type": "markdown",
      "metadata": {
        "id": "-HzqpRiwk2Sl"
      },
      "source": [
        "***GRIP SEPT 2021 BATCH***"
      ]
    },
    {
      "cell_type": "markdown",
      "metadata": {
        "id": "vvqTw9aSlT33"
      },
      "source": [
        "**TASK 1: Prediction Using Supervised ML**"
      ]
    },
    {
      "cell_type": "markdown",
      "metadata": {
        "id": "3-wI4nhblUrd"
      },
      "source": [
        "**NAME: VAISHNAVI  K**"
      ]
    },
    {
      "cell_type": "markdown",
      "metadata": {
        "id": "gRNedVR6l4vD"
      },
      "source": [
        "**Importing Libraries to be Used:**"
      ]
    },
    {
      "cell_type": "code",
      "metadata": {
        "id": "C6bInqddmIhD"
      },
      "source": [
        "import numpy as np\n",
        "import pandas as pd\n",
        "import matplotlib.pyplot as plt\n",
        "%matplotlib inline\n",
        "import seaborn as sns"
      ],
      "execution_count": null,
      "outputs": []
    },
    {
      "cell_type": "markdown",
      "metadata": {
        "id": "CsDlfFWomQi_"
      },
      "source": [
        "**Dataset:**"
      ]
    },
    {
      "cell_type": "code",
      "metadata": {
        "id": "l-meWsnRmXW3"
      },
      "source": [
        "data = pd.read_csv(\"http://bit.ly/w-data\")\n",
        "data"
      ],
      "execution_count": null,
      "outputs": []
    },
    {
      "cell_type": "code",
      "metadata": {
        "id": "A7i7bYVNmmkq"
      },
      "source": [
        "data.head()"
      ],
      "execution_count": null,
      "outputs": []
    },
    {
      "cell_type": "code",
      "metadata": {
        "id": "cp1iFYl_mqHd"
      },
      "source": [
        "data.shape"
      ],
      "execution_count": null,
      "outputs": []
    },
    {
      "cell_type": "code",
      "metadata": {
        "colab": {
          "base_uri": "https://localhost:8080/"
        },
        "id": "23fXkfz9mt5j",
        "outputId": "ce35c607-e6b9-494a-92d8-43ef68ddeae2"
      },
      "source": [
        "\n",
        "data.info()"
      ],
      "execution_count": null,
      "outputs": [
        {
          "output_type": "stream",
          "name": "stdout",
          "text": [
            "<class 'pandas.core.frame.DataFrame'>\n",
            "RangeIndex: 25 entries, 0 to 24\n",
            "Data columns (total 2 columns):\n",
            " #   Column  Non-Null Count  Dtype  \n",
            "---  ------  --------------  -----  \n",
            " 0   Hours   25 non-null     float64\n",
            " 1   Scores  25 non-null     int64  \n",
            "dtypes: float64(1), int64(1)\n",
            "memory usage: 528.0 bytes\n"
          ]
        }
      ]
    },
    {
      "cell_type": "code",
      "metadata": {
        "colab": {
          "base_uri": "https://localhost:8080/"
        },
        "id": "CBiBU09jm0mf",
        "outputId": "9500646b-6e9f-4645-ad00-e2bc51db3c84"
      },
      "source": [
        "print(data.mean())"
      ],
      "execution_count": null,
      "outputs": [
        {
          "output_type": "stream",
          "name": "stdout",
          "text": [
            "Hours      5.012\n",
            "Scores    51.480\n",
            "dtype: float64\n"
          ]
        }
      ]
    },
    {
      "cell_type": "code",
      "metadata": {
        "colab": {
          "base_uri": "https://localhost:8080/",
          "height": 294
        },
        "id": "INc_4pRIm4kI",
        "outputId": "01649d40-509b-41f5-a945-bf9488a4bc2d"
      },
      "source": [
        "data.describe()"
      ],
      "execution_count": null,
      "outputs": [
        {
          "output_type": "execute_result",
          "data": {
            "text/html": [
              "<div>\n",
              "<style scoped>\n",
              "    .dataframe tbody tr th:only-of-type {\n",
              "        vertical-align: middle;\n",
              "    }\n",
              "\n",
              "    .dataframe tbody tr th {\n",
              "        vertical-align: top;\n",
              "    }\n",
              "\n",
              "    .dataframe thead th {\n",
              "        text-align: right;\n",
              "    }\n",
              "</style>\n",
              "<table border=\"1\" class=\"dataframe\">\n",
              "  <thead>\n",
              "    <tr style=\"text-align: right;\">\n",
              "      <th></th>\n",
              "      <th>Hours</th>\n",
              "      <th>Scores</th>\n",
              "    </tr>\n",
              "  </thead>\n",
              "  <tbody>\n",
              "    <tr>\n",
              "      <th>count</th>\n",
              "      <td>25.000000</td>\n",
              "      <td>25.000000</td>\n",
              "    </tr>\n",
              "    <tr>\n",
              "      <th>mean</th>\n",
              "      <td>5.012000</td>\n",
              "      <td>51.480000</td>\n",
              "    </tr>\n",
              "    <tr>\n",
              "      <th>std</th>\n",
              "      <td>2.525094</td>\n",
              "      <td>25.286887</td>\n",
              "    </tr>\n",
              "    <tr>\n",
              "      <th>min</th>\n",
              "      <td>1.100000</td>\n",
              "      <td>17.000000</td>\n",
              "    </tr>\n",
              "    <tr>\n",
              "      <th>25%</th>\n",
              "      <td>2.700000</td>\n",
              "      <td>30.000000</td>\n",
              "    </tr>\n",
              "    <tr>\n",
              "      <th>50%</th>\n",
              "      <td>4.800000</td>\n",
              "      <td>47.000000</td>\n",
              "    </tr>\n",
              "    <tr>\n",
              "      <th>75%</th>\n",
              "      <td>7.400000</td>\n",
              "      <td>75.000000</td>\n",
              "    </tr>\n",
              "    <tr>\n",
              "      <th>max</th>\n",
              "      <td>9.200000</td>\n",
              "      <td>95.000000</td>\n",
              "    </tr>\n",
              "  </tbody>\n",
              "</table>\n",
              "</div>"
            ],
            "text/plain": [
              "           Hours     Scores\n",
              "count  25.000000  25.000000\n",
              "mean    5.012000  51.480000\n",
              "std     2.525094  25.286887\n",
              "min     1.100000  17.000000\n",
              "25%     2.700000  30.000000\n",
              "50%     4.800000  47.000000\n",
              "75%     7.400000  75.000000\n",
              "max     9.200000  95.000000"
            ]
          },
          "metadata": {},
          "execution_count": 42
        }
      ]
    },
    {
      "cell_type": "markdown",
      "metadata": {
        "id": "6B_ZKcq-m9Og"
      },
      "source": [
        "**Result and Features needed to be Seperated:**"
      ]
    },
    {
      "cell_type": "code",
      "metadata": {
        "colab": {
          "base_uri": "https://localhost:8080/"
        },
        "id": "VcyawV35nDcH",
        "outputId": "89515df4-caa8-4a6b-86bb-b07cdd9f053c"
      },
      "source": [
        "x = data.iloc[:,:-1].values\n",
        "print(x)"
      ],
      "execution_count": null,
      "outputs": [
        {
          "output_type": "stream",
          "name": "stdout",
          "text": [
            "[[2.5]\n",
            " [5.1]\n",
            " [3.2]\n",
            " [8.5]\n",
            " [3.5]\n",
            " [1.5]\n",
            " [9.2]\n",
            " [5.5]\n",
            " [8.3]\n",
            " [2.7]\n",
            " [7.7]\n",
            " [5.9]\n",
            " [4.5]\n",
            " [3.3]\n",
            " [1.1]\n",
            " [8.9]\n",
            " [2.5]\n",
            " [1.9]\n",
            " [6.1]\n",
            " [7.4]\n",
            " [2.7]\n",
            " [4.8]\n",
            " [3.8]\n",
            " [6.9]\n",
            " [7.8]]\n"
          ]
        }
      ]
    },
    {
      "cell_type": "code",
      "metadata": {
        "colab": {
          "base_uri": "https://localhost:8080/"
        },
        "id": "oanW-Z_enMNS",
        "outputId": "f408d9de-122c-49b5-9fba-701041ef2a6b"
      },
      "source": [
        "x = data.iloc[:,:-1].values\n",
        "print(x)"
      ],
      "execution_count": null,
      "outputs": [
        {
          "output_type": "stream",
          "name": "stdout",
          "text": [
            "[[2.5]\n",
            " [5.1]\n",
            " [3.2]\n",
            " [8.5]\n",
            " [3.5]\n",
            " [1.5]\n",
            " [9.2]\n",
            " [5.5]\n",
            " [8.3]\n",
            " [2.7]\n",
            " [7.7]\n",
            " [5.9]\n",
            " [4.5]\n",
            " [3.3]\n",
            " [1.1]\n",
            " [8.9]\n",
            " [2.5]\n",
            " [1.9]\n",
            " [6.1]\n",
            " [7.4]\n",
            " [2.7]\n",
            " [4.8]\n",
            " [3.8]\n",
            " [6.9]\n",
            " [7.8]]\n"
          ]
        }
      ]
    },
    {
      "cell_type": "code",
      "metadata": {
        "colab": {
          "base_uri": "https://localhost:8080/"
        },
        "id": "d5IUcmcinRyj",
        "outputId": "8433ede2-d302-43e7-a158-0fc290fcc57f"
      },
      "source": [
        "y = data.iloc[:,1].values\n",
        "print(y)"
      ],
      "execution_count": null,
      "outputs": [
        {
          "output_type": "stream",
          "name": "stdout",
          "text": [
            "[21 47 27 75 30 20 88 60 81 25 85 62 41 42 17 95 30 24 67 69 30 54 35 76\n",
            " 86]\n"
          ]
        }
      ]
    },
    {
      "cell_type": "code",
      "metadata": {
        "colab": {
          "base_uri": "https://localhost:8080/"
        },
        "id": "qsMVruR0nWV7",
        "outputId": "d165602e-32b4-4e30-c857-2f89bcfa07b7"
      },
      "source": [
        "x.shape"
      ],
      "execution_count": null,
      "outputs": [
        {
          "output_type": "execute_result",
          "data": {
            "text/plain": [
              "(25, 1)"
            ]
          },
          "metadata": {},
          "execution_count": 28
        }
      ]
    },
    {
      "cell_type": "code",
      "metadata": {
        "colab": {
          "base_uri": "https://localhost:8080/"
        },
        "id": "Tuh4JFEFnX5m",
        "outputId": "833b042b-2b75-4c27-fde8-9f237e692f0e"
      },
      "source": [
        "y.shape"
      ],
      "execution_count": null,
      "outputs": [
        {
          "output_type": "execute_result",
          "data": {
            "text/plain": [
              "(25,)"
            ]
          },
          "metadata": {},
          "execution_count": 12
        }
      ]
    },
    {
      "cell_type": "markdown",
      "metadata": {
        "id": "u0Hj4pcZnh7x"
      },
      "source": [
        "**Visualization of the Data:**"
      ]
    },
    {
      "cell_type": "code",
      "metadata": {
        "colab": {
          "base_uri": "https://localhost:8080/",
          "height": 295
        },
        "id": "YG_0l5zKnqUi",
        "outputId": "20ab9b63-3267-4b64-c9c8-b71baedb97c0"
      },
      "source": [
        "# using the matplotlib library here:\n",
        "plt.scatter(x,y,color = \"Blue\") # scatter plot\n",
        "plt.title(\"Raw Data Scatter Plot\")\n",
        "plt.xlabel(\"Time Studied in hrs\")\n",
        "plt.ylabel(\"Marks in Percentage\")\n",
        "plt.show();"
      ],
      "execution_count": null,
      "outputs": [
        {
          "output_type": "display_data",
          "data": {
            "image/png": "[encoded data removed]",
            "text/plain": [
              "<Figure size 432x288 with 1 Axes>"
            ]
          },
          "metadata": {
            "needs_background": "light"
          }
        }
      ]
    },
    {
      "cell_type": "markdown",
      "metadata": {
        "id": "6VHDL6nPnv78"
      },
      "source": [
        "**Model Creation:**"
      ]
    },
    {
      "cell_type": "markdown",
      "metadata": {
        "id": "lOBxsecdn2qs"
      },
      "source": [
        "This problem statement is a simple linear regression problem as we can see there is a proportionality between Marks in percentage and Time Studied in hrs"
      ]
    },
    {
      "cell_type": "code",
      "metadata": {
        "id": "-FCda4Vun7Yr"
      },
      "source": [
        "# For data modelling, I will be using scikit learn library.\n",
        "from sklearn.model_selection import train_test_split"
      ],
      "execution_count": null,
      "outputs": []
    },
    {
      "cell_type": "code",
      "metadata": {
        "colab": {
          "base_uri": "https://localhost:8080/"
        },
        "id": "fFkl5lGvoBJv",
        "outputId": "ee33249f-43ec-4463-c79c-00d03b8abff0"
      },
      "source": [
        "X_train, X_test, Y_train, Y_test = train_test_split(x,y,test_size = 0.2, random_state = 0)\n",
        "print(X_train.shape, Y_train.shape)\n",
        "print(X_test.shape, Y_test.shape)"
      ],
      "execution_count": null,
      "outputs": [
        {
          "output_type": "stream",
          "name": "stdout",
          "text": [
            "(20, 1) (20,)\n",
            "(5, 1) (5,)\n"
          ]
        }
      ]
    },
    {
      "cell_type": "markdown",
      "metadata": {
        "id": "SBKAPXyKoFld"
      },
      "source": [
        "\n",
        "**Training Model:**"
      ]
    },
    {
      "cell_type": "code",
      "metadata": {
        "id": "pI747L1KoK2J"
      },
      "source": [
        "from sklearn.linear_model import LinearRegression"
      ],
      "execution_count": null,
      "outputs": []
    },
    {
      "cell_type": "code",
      "metadata": {
        "colab": {
          "base_uri": "https://localhost:8080/"
        },
        "id": "28JZzSIGoSw4",
        "outputId": "fdf88024-d04d-40e8-a4ba-112a256237b0"
      },
      "source": [
        "linModel = LinearRegression()\n",
        "linModel.fit(X_train, Y_train)\n",
        "print(f'Coefficient : {linModel.coef_}\\nIntercept : {linModel.intercept_}\\nAccuracy : {round(linModel.score(X_test,Y_test),4)*100}%')"
      ],
      "execution_count": null,
      "outputs": [
        {
          "output_type": "stream",
          "name": "stdout",
          "text": [
            "Coefficient : [9.91065648]\n",
            "Intercept : 2.018160041434662\n",
            "Accuracy : 94.55%\n"
          ]
        }
      ]
    },
    {
      "cell_type": "markdown",
      "metadata": {
        "id": "erAl5-tQoaEx"
      },
      "source": [
        "\n",
        "So, the model that I've trained is accurate by 94.55%."
      ]
    },
    {
      "cell_type": "markdown",
      "metadata": {
        "id": "0ygF_uk5opCT"
      },
      "source": [
        "**Predicted values:**"
      ]
    },
    {
      "cell_type": "code",
      "metadata": {
        "colab": {
          "base_uri": "https://localhost:8080/",
          "height": 202
        },
        "id": "AIwrZARYos5F",
        "outputId": "83c025f9-2ccd-4760-be66-bb6fb302ed94"
      },
      "source": [
        "predictions = linModel.predict(X_test)\n",
        "data_predicted = pd.DataFrame({'Actual': Y_test, 'Predicted': predictions}) \n",
        "data_predicted"
      ],
      "execution_count": null,
      "outputs": [
        {
          "output_type": "execute_result",
          "data": {
            "text/html": [
              "<div>\n",
              "<style scoped>\n",
              "    .dataframe tbody tr th:only-of-type {\n",
              "        vertical-align: middle;\n",
              "    }\n",
              "\n",
              "    .dataframe tbody tr th {\n",
              "        vertical-align: top;\n",
              "    }\n",
              "\n",
              "    .dataframe thead th {\n",
              "        text-align: right;\n",
              "    }\n",
              "</style>\n",
              "<table border=\"1\" class=\"dataframe\">\n",
              "  <thead>\n",
              "    <tr style=\"text-align: right;\">\n",
              "      <th></th>\n",
              "      <th>Actual</th>\n",
              "      <th>Predicted</th>\n",
              "    </tr>\n",
              "  </thead>\n",
              "  <tbody>\n",
              "    <tr>\n",
              "      <th>0</th>\n",
              "      <td>20</td>\n",
              "      <td>16.884145</td>\n",
              "    </tr>\n",
              "    <tr>\n",
              "      <th>1</th>\n",
              "      <td>27</td>\n",
              "      <td>33.732261</td>\n",
              "    </tr>\n",
              "    <tr>\n",
              "      <th>2</th>\n",
              "      <td>69</td>\n",
              "      <td>75.357018</td>\n",
              "    </tr>\n",
              "    <tr>\n",
              "      <th>3</th>\n",
              "      <td>30</td>\n",
              "      <td>26.794801</td>\n",
              "    </tr>\n",
              "    <tr>\n",
              "      <th>4</th>\n",
              "      <td>62</td>\n",
              "      <td>60.491033</td>\n",
              "    </tr>\n",
              "  </tbody>\n",
              "</table>\n",
              "</div>"
            ],
            "text/plain": [
              "   Actual  Predicted\n",
              "0      20  16.884145\n",
              "1      27  33.732261\n",
              "2      69  75.357018\n",
              "3      30  26.794801\n",
              "4      62  60.491033"
            ]
          },
          "metadata": {},
          "execution_count": 18
        }
      ]
    },
    {
      "cell_type": "markdown",
      "metadata": {
        "id": "RyUMFMEcoxI4"
      },
      "source": [
        "As we can see from the \"data_predicted\" data, the Actual Column data is somewhat similar to the Predicted Column Values."
      ]
    },
    {
      "cell_type": "markdown",
      "metadata": {
        "id": "c52a0dGko0-K"
      },
      "source": [
        "**Plotting Linear Regression line wrt the test data:**"
      ]
    },
    {
      "cell_type": "code",
      "metadata": {
        "colab": {
          "base_uri": "https://localhost:8080/",
          "height": 295
        },
        "id": "9XeLCe_Fo6SQ",
        "outputId": "0bdf020b-575d-4cc2-9de3-2bb355ee392f"
      },
      "source": [
        "plt.plot(X_test, predictions,'yellow', label = 'Linear Regression Line')\n",
        "plt.scatter(X_test, Y_test, label = \"Raw Data\",color=\"Blue\")\n",
        "plt.title('linModel VS Test Data')\n",
        "plt.xlabel(\"Time Studied in hrs\")\n",
        "plt.ylabel(\"Marks in Percentage\")\n",
        "plt.legend()\n",
        "plt.show()"
      ],
      "execution_count": null,
      "outputs": [
        {
          "output_type": "display_data",
          "data": {
            "image/png": "[encoded data removed]",
            "text/plain": [
              "<Figure size 432x288 with 1 Axes>"
            ]
          },
          "metadata": {
            "needs_background": "light"
          }
        }
      ]
    },
    {
      "cell_type": "markdown",
      "metadata": {
        "id": "-nAkY568o-Yt"
      },
      "source": [
        "**Plotting Linear Regression Line wrt Whole Dataset:**"
      ]
    },
    {
      "cell_type": "markdown",
      "metadata": {
        "id": "xCXMNpfKpCff"
      },
      "source": [
        "The Formula is: y = mx + c; where, m is the coefficient and c is the y-intercept"
      ]
    },
    {
      "cell_type": "code",
      "metadata": {
        "id": "mejjV1uypHKq"
      },
      "source": [
        "l = (linModel.coef_ * x) + linModel.intercept_\n",
        "plt.scatter(x,y, label = \"Raw Data\", color = \"Blue\")\n",
        "plt.plot(x, l , 'Yellow', label = \"Linear Regression Line\")\n",
        "plt.title(\"linModel VS Whole Dataset\")\n",
        "plt.xlabel(\"Time Studied in hrs\")\n",
        "plt.ylabel(\"Marks in Percentage\")\n",
        "plt.legend()\n",
        "plt.show();"
      ],
      "execution_count": null,
      "outputs": []
    },
    {
      "cell_type": "markdown",
      "metadata": {
        "id": "BcsAZyoppK7y"
      },
      "source": [
        "**After Analysis of raw as well as whole data and doing it visually:**"
      ]
    },
    {
      "cell_type": "markdown",
      "metadata": {
        "id": "WbGVWYSipPhQ"
      },
      "source": [
        "What will be the predicted score if a student studies for 9.25 hrs/day?"
      ]
    },
    {
      "cell_type": "code",
      "metadata": {
        "colab": {
          "base_uri": "https://localhost:8080/"
        },
        "id": "wSSk2hmYpV5g",
        "outputId": "676f8192-aa9b-4d26-98df-097c08af8968"
      },
      "source": [
        "hrs = float(input(\"Hours Studied per day: \"))\n",
        "hrs = np.reshape(hrs,(-1,1))\n",
        "predicted = linModel.predict(hrs)\n",
        "print(f'Predicted Score: {float(predicted[0])} %')\n",
        "print(f'Rounded Predicted Score: {round(predicted[0],4)} %')"
      ],
      "execution_count": null,
      "outputs": [
        {
          "output_type": "stream",
          "name": "stdout",
          "text": [
            "Hours Studied per day: 9.25\n",
            "Predicted Score: 93.69173248737539 %\n",
            "Rounded Predicted Score: 93.6917 %\n"
          ]
        }
      ]
    },
    {
      "cell_type": "code",
      "metadata": {
        "colab": {
          "base_uri": "https://localhost:8080/"
        },
        "id": "AlfdRFaNpq-E",
        "outputId": "32ac1c5d-9f82-4530-d96e-4c0cea1363a8"
      },
      "source": [
        "from sklearn import metrics\n",
        "print(f'Mean Absolute Error: {metrics.mean_absolute_error(Y_test, predictions)}')\n",
        "print(f'Mean Squared Error: {metrics.mean_squared_error(Y_test, predictions)}')"
      ],
      "execution_count": null,
      "outputs": [
        {
          "output_type": "stream",
          "name": "stdout",
          "text": [
            "Mean Absolute Error: 4.183859899002982\n",
            "Mean Squared Error: 21.598769307217456\n"
          ]
        }
      ]
    },
    {
      "cell_type": "markdown",
      "metadata": {
        "id": "Q8S16PNTpuGQ"
      },
      "source": [
        "**Conclusion:**"
      ]
    },
    {
      "cell_type": "markdown",
      "metadata": {
        "id": "nGJaLSn9pz5j"
      },
      "source": [
        "It was a simple Linear Regression Probelm which is a  Supervised Machine Learning Concept.So,if a student studies for 9.25 hrs/day then the  predicted score is:93.69%.\n",
        "\n"
      ]
    },
    {
      "cell_type": "markdown",
      "metadata": {
        "id": "EgKcAxqFqmVH"
      },
      "source": [
        "**Thank You!**"
      ]
    }
  ]
}